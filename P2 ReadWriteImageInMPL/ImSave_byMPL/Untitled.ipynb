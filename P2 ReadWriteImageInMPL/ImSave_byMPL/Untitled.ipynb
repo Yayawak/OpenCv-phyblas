{
 "cells": [
  {
   "cell_type": "code",
   "execution_count": 4,
   "id": "5dec6847-57c8-4bdd-ad8f-bcbdad212079",
   "metadata": {},
   "outputs": [],
   "source": [
    "import cv2\n",
    "import numpy as np\n",
    "import matplotlib.pyplot as plt\n",
    "import matplotlib.image as mpimg\n"
   ]
  },
  {
   "cell_type": "code",
   "execution_count": 6,
   "id": "b2269bfa-faf8-4baf-9877-e56343834f0a",
   "metadata": {},
   "outputs": [],
   "source": [
    "rin = cv2.imread('rin02c01.jpg', cv2.IMREAD_GRAYSCALE)\n",
    "mpimg.imsave('rin_gray.jpg', rin, cmap='gray')"
   ]
  }
 ],
 "metadata": {
  "kernelspec": {
   "display_name": "Python 3",
   "language": "python",
   "name": "python3"
  },
  "language_info": {
   "codemirror_mode": {
    "name": "ipython",
    "version": 3
   },
   "file_extension": ".py",
   "mimetype": "text/x-python",
   "name": "python",
   "nbconvert_exporter": "python",
   "pygments_lexer": "ipython3",
   "version": "3.8.5"
  }
 },
 "nbformat": 4,
 "nbformat_minor": 5
}
