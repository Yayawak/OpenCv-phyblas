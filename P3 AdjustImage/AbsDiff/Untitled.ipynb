{
 "cells": [
  {
   "cell_type": "code",
   "execution_count": 1,
   "id": "e5d454d0-150b-4570-af08-8c72a0728470",
   "metadata": {},
   "outputs": [
    {
     "data": {
      "text/plain": [
       "True"
      ]
     },
     "execution_count": 1,
     "metadata": {},
     "output_type": "execute_result"
    }
   ],
   "source": [
    "import cv2\n",
    "\n",
    "exist = cv2.imread('mikuExist.jpg',cv2.IMREAD_GRAYSCALE)\n",
    "empty = cv2.imread('mikuEmptyy.jpg',cv2.IMREAD_GRAYSCALE)\n",
    "\n",
    "mikuDiff = cv2.absdiff(exist,empty)\n",
    "cv2.imwrite('mikuDiff.jpg', mikuDiff)"
   ]
  }
 ],
 "metadata": {
  "kernelspec": {
   "display_name": "Python 3",
   "language": "python",
   "name": "python3"
  },
  "language_info": {
   "codemirror_mode": {
    "name": "ipython",
    "version": 3
   },
   "file_extension": ".py",
   "mimetype": "text/x-python",
   "name": "python",
   "nbconvert_exporter": "python",
   "pygments_lexer": "ipython3",
   "version": "3.8.5"
  }
 },
 "nbformat": 4,
 "nbformat_minor": 5
}
