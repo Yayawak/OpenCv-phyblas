{
 "cells": [
  {
   "cell_type": "code",
   "execution_count": 1,
   "id": "95b8a69d-c621-4336-ab6d-027d427fe0ad",
   "metadata": {},
   "outputs": [
    {
     "data": {
      "text/plain": [
       "True"
      ]
     },
     "execution_count": 1,
     "metadata": {},
     "output_type": "execute_result"
    }
   ],
   "source": [
    "import cv2\n",
    "import numpy as np\n",
    "\n",
    "rup1 = np.tile(np.arange(256), (256,1))\n",
    "rup2 = rup1.T\n",
    "cv2.imwrite('im1.png', rup1)\n",
    "cv2.imwrite('im2.png', rup2)"
   ]
  },
  {
   "cell_type": "code",
   "execution_count": 6,
   "id": "cea7fbb5-e3f5-47a2-abd7-d53b3bca4a29",
   "metadata": {},
   "outputs": [
    {
     "name": "stdout",
     "output_type": "stream",
     "text": [
      "[0 1 2 3 4]\n"
     ]
    }
   ],
   "source": [
    "a = np.arange(5)\n",
    "print(a)"
   ]
  },
  {
   "cell_type": "code",
   "execution_count": 7,
   "id": "9851e897-20a6-422f-a611-dfe57171d4e2",
   "metadata": {},
   "outputs": [
    {
     "name": "stdout",
     "output_type": "stream",
     "text": [
      "[0 1 2 3 4 0 1 2 3 4]\n"
     ]
    }
   ],
   "source": [
    "b = np.tile(a, 2)\n",
    "print(b)"
   ]
  },
  {
   "cell_type": "code",
   "execution_count": 12,
   "id": "558c2f5a-146e-4537-a344-1e6685a329ae",
   "metadata": {},
   "outputs": [
    {
     "name": "stdout",
     "output_type": "stream",
     "text": [
      "[[0 1 2 3 4 0 1 2 3 4 0 1 2 3 4 0 1 2 3 4 0 1 2 3 4]\n",
      " [0 1 2 3 4 0 1 2 3 4 0 1 2 3 4 0 1 2 3 4 0 1 2 3 4]\n",
      " [0 1 2 3 4 0 1 2 3 4 0 1 2 3 4 0 1 2 3 4 0 1 2 3 4]\n",
      " [0 1 2 3 4 0 1 2 3 4 0 1 2 3 4 0 1 2 3 4 0 1 2 3 4]\n",
      " [0 1 2 3 4 0 1 2 3 4 0 1 2 3 4 0 1 2 3 4 0 1 2 3 4]]\n"
     ]
    }
   ],
   "source": [
    "c = np.tile(a, (5,5))\n",
    "print(c)"
   ]
  },
  {
   "cell_type": "code",
   "execution_count": 14,
   "id": "2e14ca91-6a42-47e2-bf4a-e3a3c5b04d51",
   "metadata": {},
   "outputs": [
    {
     "data": {
      "text/plain": [
       "True"
      ]
     },
     "execution_count": 14,
     "metadata": {},
     "output_type": "execute_result"
    }
   ],
   "source": [
    "cv2.imwrite('im4.png',rup1-rup2)"
   ]
  },
  {
   "cell_type": "code",
   "execution_count": 21,
   "id": "26301d6d-69c3-4023-9599-fa54f32e930a",
   "metadata": {},
   "outputs": [
    {
     "data": {
      "text/plain": [
       "True"
      ]
     },
     "execution_count": 21,
     "metadata": {},
     "output_type": "execute_result"
    }
   ],
   "source": [
    "rup3 = np.ones([256,256,3])*255\n",
    "# print(rup3)\n",
    "rup3[:,:,0] = 0\n",
    "# print(rup3)\n",
    "rup3[:,:,1] = np.arange(256)\n",
    "print(rup3)\n",
    "cv2.imwrite('im_1_red2yel.png',rup3)"
   ]
  },
  {
   "cell_type": "code",
   "execution_count": 28,
   "id": "7adafb2b-4b4f-476d-8948-8ea35fcf2fee",
   "metadata": {},
   "outputs": [
    {
     "name": "stdout",
     "output_type": "stream",
     "text": [
      "[[[255.   0.   0.]\n",
      "  [255.   0.   0.]\n",
      "  [255.   0.   0.]\n",
      "  ...\n",
      "  [255.   0.   0.]\n",
      "  [255.   0.   0.]\n",
      "  [255.   0.   0.]]\n",
      "\n",
      " [[255.   1.   0.]\n",
      "  [255.   1.   0.]\n",
      "  [255.   1.   0.]\n",
      "  ...\n",
      "  [255.   1.   0.]\n",
      "  [255.   1.   0.]\n",
      "  [255.   1.   0.]]\n",
      "\n",
      " [[255.   2.   0.]\n",
      "  [255.   2.   0.]\n",
      "  [255.   2.   0.]\n",
      "  ...\n",
      "  [255.   2.   0.]\n",
      "  [255.   2.   0.]\n",
      "  [255.   2.   0.]]\n",
      "\n",
      " ...\n",
      "\n",
      " [[255. 253.   0.]\n",
      "  [255. 253.   0.]\n",
      "  [255. 253.   0.]\n",
      "  ...\n",
      "  [255. 253.   0.]\n",
      "  [255. 253.   0.]\n",
      "  [255. 253.   0.]]\n",
      "\n",
      " [[255. 254.   0.]\n",
      "  [255. 254.   0.]\n",
      "  [255. 254.   0.]\n",
      "  ...\n",
      "  [255. 254.   0.]\n",
      "  [255. 254.   0.]\n",
      "  [255. 254.   0.]]\n",
      "\n",
      " [[255. 255.   0.]\n",
      "  [255. 255.   0.]\n",
      "  [255. 255.   0.]\n",
      "  ...\n",
      "  [255. 255.   0.]\n",
      "  [255. 255.   0.]\n",
      "  [255. 255.   0.]]]\n"
     ]
    }
   ],
   "source": [
    "rup4 = np.zeros([256,256,3])\n",
    "rup4[:,:,0] = 255\n",
    "rup4[:,:,1] = np.arange(256).reshape(256,1)\n",
    "cv2.imwrite('im_1_blue2sky.png',rup4)\n",
    "print(rup4)"
   ]
  },
  {
   "cell_type": "code",
   "execution_count": 29,
   "id": "d29215ac-2578-4bb0-9529-36119b83cfc9",
   "metadata": {},
   "outputs": [
    {
     "data": {
      "text/plain": [
       "True"
      ]
     },
     "execution_count": 29,
     "metadata": {},
     "output_type": "execute_result"
    }
   ],
   "source": [
    "cv2.imwrite('addition.png',cv2.add(rup3,rup4))\n",
    "cv2.imwrite('subtract1.png',cv2.subtract(rup3,rup4))\n",
    "cv2.imwrite('substact2.png',cv2.subtract(rup4,rup3))"
   ]
  }
 ],
 "metadata": {
  "kernelspec": {
   "display_name": "Python 3",
   "language": "python",
   "name": "python3"
  },
  "language_info": {
   "codemirror_mode": {
    "name": "ipython",
    "version": 3
   },
   "file_extension": ".py",
   "mimetype": "text/x-python",
   "name": "python",
   "nbconvert_exporter": "python",
   "pygments_lexer": "ipython3",
   "version": "3.8.5"
  }
 },
 "nbformat": 4,
 "nbformat_minor": 5
}
