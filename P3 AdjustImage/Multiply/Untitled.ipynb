{
 "cells": [
  {
   "cell_type": "code",
   "execution_count": 14,
   "id": "642f049a-b713-4271-bdb4-769431c25434",
   "metadata": {},
   "outputs": [
    {
     "name": "stdout",
     "output_type": "stream",
     "text": [
      "[[[0.000e+00 2.550e+02 2.550e+02]\n",
      "  [2.000e-01 2.548e+02 2.550e+02]\n",
      "  [4.000e-01 2.546e+02 2.550e+02]\n",
      "  ...\n",
      "  [1.194e+02 1.356e+02 2.550e+02]\n",
      "  [1.196e+02 1.354e+02 2.550e+02]\n",
      "  [1.198e+02 1.352e+02 2.550e+02]]\n",
      "\n",
      " [[0.000e+00 2.550e+02 2.550e+02]\n",
      "  [2.000e-01 2.548e+02 2.550e+02]\n",
      "  [4.000e-01 2.546e+02 2.550e+02]\n",
      "  ...\n",
      "  [1.194e+02 1.356e+02 2.550e+02]\n",
      "  [1.196e+02 1.354e+02 2.550e+02]\n",
      "  [1.198e+02 1.352e+02 2.550e+02]]\n",
      "\n",
      " [[0.000e+00 2.550e+02 2.550e+02]\n",
      "  [2.000e-01 2.548e+02 2.550e+02]\n",
      "  [4.000e-01 2.546e+02 2.550e+02]\n",
      "  ...\n",
      "  [1.194e+02 1.356e+02 2.550e+02]\n",
      "  [1.196e+02 1.354e+02 2.550e+02]\n",
      "  [1.198e+02 1.352e+02 2.550e+02]]\n",
      "\n",
      " ...\n",
      "\n",
      " [[0.000e+00 2.550e+02 2.550e+02]\n",
      "  [2.000e-01 2.548e+02 2.550e+02]\n",
      "  [4.000e-01 2.546e+02 2.550e+02]\n",
      "  ...\n",
      "  [1.194e+02 1.356e+02 2.550e+02]\n",
      "  [1.196e+02 1.354e+02 2.550e+02]\n",
      "  [1.198e+02 1.352e+02 2.550e+02]]\n",
      "\n",
      " [[0.000e+00 2.550e+02 2.550e+02]\n",
      "  [2.000e-01 2.548e+02 2.550e+02]\n",
      "  [4.000e-01 2.546e+02 2.550e+02]\n",
      "  ...\n",
      "  [1.194e+02 1.356e+02 2.550e+02]\n",
      "  [1.196e+02 1.354e+02 2.550e+02]\n",
      "  [1.198e+02 1.352e+02 2.550e+02]]\n",
      "\n",
      " [[0.000e+00 2.550e+02 2.550e+02]\n",
      "  [2.000e-01 2.548e+02 2.550e+02]\n",
      "  [4.000e-01 2.546e+02 2.550e+02]\n",
      "  ...\n",
      "  [1.194e+02 1.356e+02 2.550e+02]\n",
      "  [1.196e+02 1.354e+02 2.550e+02]\n",
      "  [1.198e+02 1.352e+02 2.550e+02]]]\n"
     ]
    }
   ],
   "source": [
    "import cv2\n",
    "import numpy as np\n",
    "\n",
    "arr = np.ones([450,600,3])*255\n",
    "arr[:,:,1] -= np.arange(600)/5\n",
    "arr[:,:,0] = np.arange(600)/5\n",
    "cv2.imwrite('orange_yel.jpg',arr)\n",
    "print(arr)"
   ]
  },
  {
   "cell_type": "code",
   "execution_count": 15,
   "id": "3a176cf1-e336-47ed-8dd2-e973f2134f5b",
   "metadata": {},
   "outputs": [
    {
     "data": {
      "text/plain": [
       "True"
      ]
     },
     "execution_count": 15,
     "metadata": {},
     "output_type": "execute_result"
    }
   ],
   "source": [
    "arr = arr.astype(np.float32)/255 # normalize to 0->1\n",
    "teto = cv2.imread('teto.jpg').astype(np.float32)\n",
    "\n",
    "teto2 = cv2.multiply(teto,arr)\n",
    "cv2.imwrite('teto_shaded_dinner.jpg',teto2)"
   ]
  }
 ],
 "metadata": {
  "kernelspec": {
   "display_name": "Python 3",
   "language": "python",
   "name": "python3"
  },
  "language_info": {
   "codemirror_mode": {
    "name": "ipython",
    "version": 3
   },
   "file_extension": ".py",
   "mimetype": "text/x-python",
   "name": "python",
   "nbconvert_exporter": "python",
   "pygments_lexer": "ipython3",
   "version": "3.8.5"
  }
 },
 "nbformat": 4,
 "nbformat_minor": 5
}
