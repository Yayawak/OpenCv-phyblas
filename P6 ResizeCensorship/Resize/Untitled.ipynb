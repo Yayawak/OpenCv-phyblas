{
 "cells": [
  {
   "cell_type": "code",
   "execution_count": 4,
   "id": "d67e6263-53fd-4533-8073-89b6ef4fdf80",
   "metadata": {},
   "outputs": [
    {
     "name": "stdout",
     "output_type": "stream",
     "text": [
      "(450, 600, 3)\n"
     ]
    }
   ],
   "source": [
    "import cv2\n",
    "import numpy as np\n",
    "import matplotlib.pyplot as plt\n",
    "\n",
    "teto = cv2.imread('teto.jpg')\n",
    "print(teto.shape)\n"
   ]
  },
  {
   "cell_type": "code",
   "execution_count": 6,
   "id": "0f1a97eb-5d8d-4982-ac6c-48125f1ca779",
   "metadata": {},
   "outputs": [
    {
     "data": {
      "text/plain": [
       "True"
      ]
     },
     "execution_count": 6,
     "metadata": {},
     "output_type": "execute_result"
    }
   ],
   "source": [
    "teto = cv2.resize(teto, (120,300))\n",
    "cv2.imwrite('tetoScaledDown.jpg', teto)"
   ]
  },
  {
   "cell_type": "code",
   "execution_count": 7,
   "id": "0069154d-2980-4037-a5b9-a503fff53e43",
   "metadata": {},
   "outputs": [
    {
     "data": {
      "text/plain": [
       "True"
      ]
     },
     "execution_count": 7,
     "metadata": {},
     "output_type": "execute_result"
    }
   ],
   "source": [
    "teto = cv2.resize(teto, (600,450))\n",
    "cv2.imwrite('tetoScaledUp.jpg', teto)"
   ]
  }
 ],
 "metadata": {
  "kernelspec": {
   "display_name": "Python 3",
   "language": "python",
   "name": "python3"
  },
  "language_info": {
   "codemirror_mode": {
    "name": "ipython",
    "version": 3
   },
   "file_extension": ".py",
   "mimetype": "text/x-python",
   "name": "python",
   "nbconvert_exporter": "python",
   "pygments_lexer": "ipython3",
   "version": "3.8.5"
  }
 },
 "nbformat": 4,
 "nbformat_minor": 5
}
